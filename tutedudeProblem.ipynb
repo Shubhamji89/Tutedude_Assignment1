{
 "cells": [
  {
   "cell_type": "markdown",
   "id": "706d0239-9a66-4a98-b30d-09878ce0c3e5",
   "metadata": {},
   "source": [
    "Solution for 1 a"
   ]
  },
  {
   "cell_type": "code",
   "execution_count": null,
   "id": "ce1cf6db-ced0-423f-82e9-76d1a93bf1fa",
   "metadata": {
    "scrolled": true
   },
   "outputs": [],
   "source": [
    "import random\n",
    "\n",
    "num_tosses = 10000\n",
    "heads_count = 0\n",
    "tails_count = 0\n",
    "\n",
    "for _ in range(num_tosses):\n",
    "    outcome = random.choice(['Heads', 'Tails'])\n",
    "    if outcome == 'Heads':\n",
    "        heads_count += 1\n",
    "\n",
    "    else:\n",
    "        tails_count += 1\n",
    "\n",
    "prob_heads = heads_count / num_tosses\n",
    "prob_tails = tails_count / num_tosses\n",
    "\n",
    "print(f\"Experimental probability of heads: {prob_heads:.4f}\")\n",
    "print(f\"Experimental probability of tails: {prob_tails:.4f}\")"
   ]
  },
  {
   "cell_type": "markdown",
   "id": "ca32ef7b-a99c-4702-9805-3694dce9bd59",
   "metadata": {},
   "source": [
    "Solution for 1 b"
   ]
  },
  {
   "cell_type": "code",
   "execution_count": null,
   "id": "68e10992-7f2a-4b34-a66a-6cb74b2aedf1",
   "metadata": {},
   "outputs": [],
   "source": [
    "import random\n",
    "\n",
    "num_rolls = 10000\n",
    "sum_of_7 = 0\n",
    "\n",
    "for _ in range(num_rolls):\n",
    "    dice1 = random.randint(1, 6)\n",
    "    dice2 = random.randint(1, 6)\n",
    "    sum_of_boths = dice1 + dice2\n",
    "    if sum_of_boths == 7:\n",
    "        sum_of_7 += 1\n",
    "\n",
    "prob_of_comes_7 = sum_of_7/num_rolls\n",
    "\n",
    "print(f\"Probability of comes 7: {prob_of_comes_7:.4f}\")      "
   ]
  },
  {
   "cell_type": "markdown",
   "id": "54bbb1e8-0df0-4786-8bef-a415aa93e910",
   "metadata": {},
   "source": [
    "Solution for 2"
   ]
  },
  {
   "cell_type": "code",
   "execution_count": null,
   "id": "c87dcf52-d050-46da-85d6-041fcb808d38",
   "metadata": {},
   "outputs": [],
   "source": [
    "import random\n",
    "\n",
    "def estimate_probability(num_trials=10000):\n",
    "    success_count = 0\n",
    "\n",
    "    for _ in range(num_trials):\n",
    "        found_six = False\n",
    "        for _ in range(10):  \n",
    "            roll = random.randint(1, 6)\n",
    "            if roll == 6:\n",
    "                found_six = True\n",
    "                break  \n",
    "        if found_six:\n",
    "            success_count += 1\n",
    "\n",
    "    probability = success_count / num_trials\n",
    "    print(f\"Estimated probability of getting at least one '6' in 10 rolls: {probability:.4f}\")\n",
    "\n",
    "estimate_probability()"
   ]
  },
  {
   "cell_type": "markdown",
   "id": "7f132320-f63f-4a9b-bd55-01e0e5a4cb38",
   "metadata": {},
   "source": [
    "Solution for Ques. 3"
   ]
  },
  {
   "cell_type": "code",
   "execution_count": null,
   "id": "94638c4b-de12-44ba-b98c-66801741f752",
   "metadata": {
    "scrolled": true
   },
   "outputs": [],
   "source": [
    "import random\n",
    "\n",
    "colors = ['red'] * 5 + ['green'] * 7 + ['blue'] * 8\n",
    "num_trials = 1000\n",
    "\n",
    "\n",
    "draws = [random.choice(colors) for _ in range(num_trials)]\n",
    "\n",
    "red_given_prev_blue = 0\n",
    "prev_blue_count = 0\n",
    "\n",
    "blue_given_next_red = 0\n",
    "red_count = 0\n",
    "\n",
    "for i in range(1, num_trials):\n",
    "    prev = draws[i - 1]\n",
    "    curr = draws[i]\n",
    "\n",
    "    \n",
    "    if prev == 'blue':\n",
    "        prev_blue_count += 1\n",
    "        if curr == 'red':\n",
    "            red_given_prev_blue += 1\n",
    "\n",
    "    \n",
    "    if curr == 'red':\n",
    "        red_count += 1\n",
    "        if prev == 'blue':\n",
    "            blue_given_next_red += 1\n",
    "\n",
    "\n",
    "P_R_given_Bprev = red_given_prev_blue / prev_blue_count if prev_blue_count else 0\n",
    "P_Bprev_given_R = blue_given_next_red / red_count if red_count else 0\n",
    "P_R = draws.count('red') / num_trials\n",
    "P_Bprev = draws.count('blue') / num_trials\n",
    "\n",
    "\n",
    "bayes_estimate = (P_Bprev_given_R * P_R) / P_Bprev if P_Bprev else 0\n",
    "\n",
    "\n",
    "print(f\"Estimated P(R | B_prev): {P_R_given_Bprev:.4f}\")\n",
    "print(f\"Bayes Theorem Estimate: {bayes_estimate:.4f}\")"
   ]
  }
 ],
 "metadata": {
  "kernelspec": {
   "display_name": "Python 3 (ipykernel)",
   "language": "python",
   "name": "python3"
  },
  "language_info": {
   "codemirror_mode": {
    "name": "ipython",
    "version": 3
   },
   "file_extension": ".py",
   "mimetype": "text/x-python",
   "name": "python",
   "nbconvert_exporter": "python",
   "pygments_lexer": "ipython3",
   "version": "3.13.5"
  }
 },
 "nbformat": 4,
 "nbformat_minor": 5
}
